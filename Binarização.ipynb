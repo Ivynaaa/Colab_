{
  "nbformat": 4,
  "nbformat_minor": 0,
  "metadata": {
    "colab": {
      "provenance": [],
      "authorship_tag": "ABX9TyOaFSYhnOFD5zQ/TRgoxmHW",
      "include_colab_link": true
    },
    "kernelspec": {
      "name": "python3",
      "display_name": "Python 3"
    },
    "language_info": {
      "name": "python"
    }
  },
  "cells": [
    {
      "cell_type": "markdown",
      "metadata": {
        "id": "view-in-github",
        "colab_type": "text"
      },
      "source": [
        "<a href=\"https://colab.research.google.com/github/Ivynaaa/Colab_/blob/main/Binariza%C3%A7%C3%A3o.ipynb\" target=\"_parent\"><img src=\"https://colab.research.google.com/assets/colab-badge.svg\" alt=\"Open In Colab\"/></a>"
      ]
    },
    {
      "cell_type": "code",
      "execution_count": null,
      "metadata": {
        "colab": {
          "base_uri": "https://localhost:8080/",
          "height": 346
        },
        "id": "J1BGkAW4H32v",
        "outputId": "d65cd883-373b-4b60-e524-a919c2afd25e"
      },
      "outputs": [
        {
          "output_type": "display_data",
          "data": {
            "text/plain": [
              "<PIL.Image.Image image mode=L size=466x329>"
            ],
            "image/png": "[encoded data removed]"
          },
          "metadata": {}
        }
      ],
      "source": [
        "#Beatriz Leonara\n",
        "#Ivyna Alves S. Magalhães\n",
        "\n",
        "import cv2\n",
        "from google.colab.patches import cv2_imshow\n",
        "from PIL import Image\n",
        "\n",
        "#Trasformando em cinza\n",
        "img = cv2.imread(\"coins.png\", 0)\n",
        "\n",
        "#Binarização\n",
        "img = cv2.imread(\"coins.png\", cv2.IMREAD_GRAYSCALE)\n",
        "_, imagem_binarizada = cv2.threshold(img, 81, 255, cv2.THRESH_BINARY)\n",
        "cv2_imshow(imagem_binarizada)"
      ]
    }
  ]
}